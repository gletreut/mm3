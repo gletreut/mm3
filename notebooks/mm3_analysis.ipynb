{
 "cells": [
  {
   "cell_type": "markdown",
   "metadata": {},
   "source": [
    "# Analysis of [experiment_name]\n",
    "\n",
    "* This is a template for analyzing data that comes from mm3. \n",
    "* I would copy this file to your experimental_folder/analysis/cell_data folder and change the name to reflect your experiment. \n",
    "* Some of the paths below assume this is the location of this notebook, but you can clearly change that.\n",
    "* You will need your cells.pkl file from mm3_Segment.py or mm3_OutputData.py.\n",
    "* Also need your parameters.yaml and specs file to navigate the data.\n",
    "* You will also need to link to mm3_helpers.py and mm3_plots.py in you mm3 directory. \n",
    "* All of the plotting and filtering functions are actually in one of these two modules.\n",
    "\n",
    "## Load modules"
   ]
  },
  {
   "cell_type": "code",
   "execution_count": null,
   "metadata": {},
   "outputs": [],
   "source": [
    "from __future__ import division\n",
    "\n",
    "# import modules\n",
    "from pprint import pprint # for human readable file output\n",
    "try:\n",
    "    import cPickle as pickle\n",
    "except:\n",
    "    import pickle\n",
    "import numpy as np\n",
    "import scipy.stats as sps\n",
    "import pandas as pd\n",
    "pd.options.display.float_format = '{:,.3f}'.format\n",
    "from IPython.display import display, HTML\n",
    "\n",
    "# you need to import mm3_helpers\n",
    "%load_ext autoreload\n",
    "%autoreload 2 # this will reload mm3_plots.py everytime you run something. \n",
    "sys.path.insert(0, '../../mm3/') # path to your mm3 folder. \n",
    "%aimport mm3_plots\n",
    "\n",
    "import mm3_helpers as mm3\n",
    "\n",
    "# plotting modules and settings. \n",
    "import matplotlib as mpl\n",
    "import matplotlib.pyplot as plt\n",
    "from matplotlib.colors import ListedColormap\n",
    "%matplotlib\n",
    "font = {'family' : 'normal',\n",
    "        'weight' : 'normal',\n",
    "        'size'   : 18}\n",
    "mpl.rc('font', **font)\n",
    "mpl.rcParams['figure.figsize'] = 10, 10\n",
    "mpl.rcParams['pdf.fonttype'] = 42\n",
    "import seaborn as sns\n",
    "sns.set(style=\"ticks\", color_codes=True, font_scale=1.25)"
   ]
  },
  {
   "cell_type": "markdown",
   "metadata": {},
   "source": [
    "## Load experiment specific files\n",
    "* Here you load your parameters, specs, and cell data"
   ]
  },
  {
   "cell_type": "code",
   "execution_count": null,
   "metadata": {},
   "outputs": [],
   "source": [
    "param_file_path = '../../params_sal1.yaml'\n",
    "params = mm3.init_mm3_helpers(param_file_path)\n",
    "\n",
    "# load specs file\n",
    "with open(params['ana_dir'] + 'specs.pkl', 'r') as specs_file:\n",
    "    specs = pickle.load(specs_file)\n",
    "    \n",
    "# load cell data dict\n",
    "with open(params['cell_dir'] + 'complete_cells.pkl', 'r') as cell_file:\n",
    "    Complete_Cells = pickle.load(cell_file)"
   ]
  },
  {
   "cell_type": "markdown",
   "metadata": {},
   "source": [
    "## Describe the data"
   ]
  },
  {
   "cell_type": "code",
   "execution_count": null,
   "metadata": {},
   "outputs": [],
   "source": [
    "# how many channels do we have analyzed? \n",
    "channel_no = 0\n",
    "for fov_id in specs.keys():\n",
    "    for peak_id, spec in specs[fov_id].items():\n",
    "        if spec == 1:\n",
    "            channel_no += 1\n",
    "print('There are %d channels analyzed' % channel_no)"
   ]
  },
  {
   "cell_type": "markdown",
   "metadata": {
    "collapsed": false
   },
   "source": [
    "## Plot basic stats"
   ]
  },
  {
   "cell_type": "code",
   "execution_count": null,
   "metadata": {},
   "outputs": [],
   "source": [
    "# This creates a dataframe of key cell parameters. \n",
    "Complete_Cells_df = mm3_plots.cells2df(Complete_Cells)\n",
    "\n",
    "# Calculate basic stats\n",
    "columns = ['sb', 'sd', 'delta', 'tau', 'elong_rate', 'septum_position']\n",
    "display(Complete_Cells_df[columns].describe())"
   ]
  },
  {
   "cell_type": "markdown",
   "metadata": {},
   "source": [
    "## Filter cells\n",
    "* mm3_plots.py and mm3_helpers.py have convinient functions for filtering."
   ]
  },
  {
   "cell_type": "code",
   "execution_count": null,
   "metadata": {},
   "outputs": [],
   "source": [
    "Cells = mm3_plots.find_cells_of_birth_label(Complete_Cells, label_num=2)\n",
    "Cells = mm3_plots.find_cells_born_before(Cells, born_before=300)\n",
    "Cells = mm3_plots.filter_by_stat(Cells, center_stat='mean', std_distance=3)"
   ]
  },
  {
   "cell_type": "markdown",
   "metadata": {},
   "source": [
    "## Plot basic stats of filtered cells\n",
    "* All analysis going forward will be done on the filtered cells."
   ]
  },
  {
   "cell_type": "code",
   "execution_count": null,
   "metadata": {},
   "outputs": [],
   "source": [
    "Cells_df = mm3_plots.cells2df(Cells)\n",
    "columns = ['sb', 'sd', 'delta', 'tau', 'elong_rate', 'septum_position']\n",
    "display(Cells_df[columns].describe())"
   ]
  },
  {
   "cell_type": "markdown",
   "metadata": {},
   "source": [
    "## Parameters across FOVs"
   ]
  },
  {
   "cell_type": "code",
   "execution_count": null,
   "metadata": {},
   "outputs": [],
   "source": [
    "fig, ax = mm3_plots.violin_fovs(Cells_df)\n",
    "\n",
    "# Figure caption\n",
    "txt = 'Figure caption text'\n",
    "fig.text(.1, 0.025, txt)\n",
    "plt.subplots_adjust(bottom=0.075, left=0.075, right=0.95)\n",
    "\n",
    "# show and save figure\n",
    "plt.show()\n",
    "fig.savefig('./plots/cell_parameters_by_fov.png', dpi=100)"
   ]
  },
  {
   "cell_type": "markdown",
   "metadata": {},
   "source": [
    "## Parameters vs birth_label"
   ]
  },
  {
   "cell_type": "code",
   "execution_count": null,
   "metadata": {},
   "outputs": [],
   "source": [
    "fig, ax = mm3_plots.violin_birth_label(Cells_df)\n",
    "\n",
    "fig.set_size_inches(7.5, 15)\n",
    "txt = '''Cell parameters versus birth label. Cells with birth labels 5, 6, and 7 \n",
    "(of which there were very few), were first discarded. Then, cells were filtered \n",
    "to be within 3 standard deviations of the mean. '''\n",
    "fig.text(.1,0.025,txt)\n",
    "plt.subplots_adjust(bottom=0.1)\n",
    "\n",
    "plt.show()\n",
    "# fig.savefig('./plots/cell_parameters_by_birth_label.png', dpi=100)"
   ]
  },
  {
   "cell_type": "markdown",
   "metadata": {
    "collapsed": true
   },
   "source": [
    "## Plot parameters over time"
   ]
  },
  {
   "cell_type": "code",
   "execution_count": null,
   "metadata": {},
   "outputs": [],
   "source": [
    "fig, ax = mm3_plots.hex_time_plot(Cells_df, time_mark='birth_time', x_extents=[0,300])\n",
    "\n",
    "txt = 'Figure caption text'\n",
    "fig.text(.1,0.025,txt)\n",
    "plt.subplots_adjust(bottom=0.1, left=0.075, right=0.95)\n",
    "\n",
    "plt.show()\n",
    "# fig.savefig('./plots/cell_parameters_over_time.png', dpi=100)"
   ]
  },
  {
   "cell_type": "markdown",
   "metadata": {},
   "source": [
    "## Plot cell traces over time"
   ]
  },
  {
   "cell_type": "code",
   "execution_count": null,
   "metadata": {},
   "outputs": [],
   "source": [
    "fig, ax = mm3_plots.plot_traces(Cells)\n",
    "\n",
    "ax[0].set_ylim([0,10])\n",
    "txt = 'Figure caption text'\n",
    "fig.text(.1,0.025,txt)\n",
    "plt.subplots_adjust(bottom=0.1, left=0.075, right=0.95)\n",
    "\n",
    "plt.show()\n",
    "# fig.savefig('./plots/traces.png', dpi=100)"
   ]
  },
  {
   "cell_type": "markdown",
   "metadata": {},
   "source": [
    "## Single cell traces over time\n",
    "* Continuous lineages will only work with the mother cells"
   ]
  },
  {
   "cell_type": "code",
   "execution_count": null,
   "metadata": {},
   "outputs": [],
   "source": [
    "Lineages = mm3_plots.organize_cells_by_channel(Cells, specs)\n",
    "Lineages = mm3_plots.find_continuous_lineages(Lineages, t1=50, t2=250)\n",
    "\n",
    "fig, ax = mm3_plots.saw_tooth_plot(Lineages, FOVs=[1,10,20,30,40], tif_width=1700, mothers=True)\n",
    "\n",
    "plt.show()\n",
    "# fig.savefig('./plots/single_cell_traces_mothers.png', dpi=100)"
   ]
  },
  {
   "cell_type": "markdown",
   "metadata": {},
   "source": [
    "## Plot distributions of parameters"
   ]
  },
  {
   "cell_type": "code",
   "execution_count": null,
   "metadata": {},
   "outputs": [],
   "source": [
    "fig, ax = mm3_plots.plot_distributions(Cells_df)\n",
    "\n",
    "txt = 'Figure caption text'\n",
    "fig.text(.1,0.05,txt)\n",
    "plt.subplots_adjust(bottom=0.13, left=0.075, right=0.95)\n",
    "\n",
    "plt.show()\n",
    "# fig.savefig('./plots/distributions.png', dpi=100)"
   ]
  },
  {
   "cell_type": "markdown",
   "metadata": {},
   "source": [
    "## Plot distributions rescaled by the mean"
   ]
  },
  {
   "cell_type": "code",
   "execution_count": null,
   "metadata": {},
   "outputs": [],
   "source": [
    "fig, ax = mm3_plots.plot_rescaled_distributions(Cells_df)\n",
    "\n",
    "txt = 'Figure caption text'\n",
    "fig.text(.1,0.05,txt)\n",
    "plt.subplots_adjust(bottom=0.35)\n",
    "\n",
    "plt.show()\n",
    "# fig.savefig('./plots/rescaled_distributions.png', dpi=100)"
   ]
  },
  {
   "cell_type": "markdown",
   "metadata": {},
   "source": [
    "## Plot correlations\n",
    "* Note you can plot the rescaled version or not. "
   ]
  },
  {
   "cell_type": "code",
   "execution_count": null,
   "metadata": {},
   "outputs": [],
   "source": [
    "Cells_df_r = mm3_plots.cells2df(Cells, rescale=True)\n",
    "\n",
    "g = mm3_plots.plot_correlations(Cells_df_r, rescale=True)\n",
    "\n",
    "txt = 'Figure caption text'\n",
    "g.fig.text(.1,0.05,txt)\n",
    "plt.subplots_adjust(bottom=0.15)\n",
    "\n",
    "plt.show()\n",
    "# g.fig.savefig('./plots/correlations_rescaled.png', dpi=100)"
   ]
  },
  {
   "cell_type": "code",
   "execution_count": null,
   "metadata": {},
   "outputs": [],
   "source": []
  }
 ],
 "metadata": {
  "kernelspec": {
   "display_name": "Python 2",
   "language": "python",
   "name": "python2"
  },
  "language_info": {
   "codemirror_mode": {
    "name": "ipython",
    "version": 2
   },
   "file_extension": ".py",
   "mimetype": "text/x-python",
   "name": "python",
   "nbconvert_exporter": "python",
   "pygments_lexer": "ipython2",
   "version": "2.7.13"
  }
 },
 "nbformat": 4,
 "nbformat_minor": 0
}
