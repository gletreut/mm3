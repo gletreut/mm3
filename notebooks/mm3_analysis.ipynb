{
 "cells": [
  {
   "cell_type": "markdown",
   "metadata": {},
   "source": [
    "# Analysis of [experiment_name]\n",
    "\n",
    "* This is a template for analyzing data that comes from mm3. \n",
    "* I would copy this file to your experimental_folder/analysis/cell_data folder and change the name to reflect your experiment. \n",
    "* Some of the paths below assume this is the location of this notebook, but you can clearly change that.\n",
    "* You will need your cells.pkl file from mm3_Segment.py or mm3_OutputData.py.\n",
    "* Also need your parameters.yaml and specs file to navigate the data.\n",
    "* You will also need to link to mm3_helpers.py and mm3_plots.py in you mm3 directory. \n",
    "* All of the plotting and filtering functions are actually in one of these two modules.\n",
    "\n",
    "## Load modules"
   ]
  },
  {
   "cell_type": "code",
   "execution_count": null,
   "metadata": {},
   "outputs": [],
   "source": [
    "from __future__ import division\n",
    "\n",
    "# import modules\n",
    "import sys\n",
    "import os\n",
    "from pprint import pprint # for human readable file output\n",
    "try:\n",
    "    import cPickle as pickle\n",
    "except:\n",
    "    import pickle\n",
    "import numpy as np\n",
    "import scipy.stats as sps\n",
    "import pandas as pd\n",
    "pd.options.display.float_format = '{:,.3f}'.format\n",
    "from IPython.display import display, HTML\n",
    "\n",
    "# load mm3 modules, always reload the plotting modules\n",
    "%load_ext autoreload\n",
    "%autoreload 2\n",
    "sys.path.insert(0, '/mm3/') # path to mm3 folder\n",
    "import mm3_helpers as mm3\n",
    "%aimport mm3_plots\n",
    "\n",
    "# plotting modules and settings. \n",
    "import matplotlib as mpl\n",
    "import matplotlib.pyplot as plt\n",
    "%matplotlib"
   ]
  },
  {
   "cell_type": "markdown",
   "metadata": {},
   "source": [
    "## Load experiment specific files\n",
    "* Here you load your parameters, specs, and cell data"
   ]
  },
  {
   "cell_type": "code",
   "execution_count": null,
   "metadata": {},
   "outputs": [],
   "source": [
    "param_file_path = './params.yaml'\n",
    "params = mm3.init_mm3_helpers(param_file_path)\n",
    "\n",
    "# load specs file\n",
    "with open(params['ana_dir'] + 'specs.pkl', 'r') as specs_file:\n",
    "    specs = pickle.load(specs_file)\n",
    "    \n",
    "# load cell data dict\n",
    "with open(params['cell_dir'] + 'complete_cells.pkl', 'r') as cell_file:\n",
    "    Complete_Cells = pickle.load(cell_file)"
   ]
  },
  {
   "cell_type": "markdown",
   "metadata": {},
   "source": [
    "## Describe the data"
   ]
  },
  {
   "cell_type": "code",
   "execution_count": null,
   "metadata": {},
   "outputs": [],
   "source": [
    "# how many channels do we have analyzed? \n",
    "channel_no = 0\n",
    "for fov_id in specs.keys():\n",
    "    for peak_id, spec in specs[fov_id].items():\n",
    "        if spec == 1:\n",
    "            channel_no += 1\n",
    "print('There are %d channels analyzed' % channel_no)"
   ]
  },
  {
   "cell_type": "markdown",
   "metadata": {
    "collapsed": false
   },
   "source": [
    "## Plot basic stats"
   ]
  },
  {
   "cell_type": "code",
   "execution_count": null,
   "metadata": {},
   "outputs": [],
   "source": [
    "# This creates a dataframe of key cell parameters. \n",
    "Complete_Cells_df = mm3_plots.cells2df(Complete_Cells)\n",
    "\n",
    "# display basic stats\n",
    "display(mm3_plots.stats_table(Complete_Cells_df))"
   ]
  },
  {
   "cell_type": "markdown",
   "metadata": {},
   "source": [
    "## Ploting saving settings\n",
    "* Create a folder for saving all functions and a flag"
   ]
  },
  {
   "cell_type": "code",
   "execution_count": null,
   "metadata": {},
   "outputs": [],
   "source": [
    "plot_dir = './plots/'\n",
    "if not os.path.exists(plot_dir):\n",
    "    os.makedirs(plot_dir)\n",
    "save_plots = False"
   ]
  },
  {
   "cell_type": "markdown",
   "metadata": {},
   "source": [
    "## Filter cells\n",
    "* mm3_plots.py and mm3_helpers.py have convinient functions for filtering."
   ]
  },
  {
   "cell_type": "code",
   "execution_count": null,
   "metadata": {},
   "outputs": [],
   "source": [
    "Cells = mm3_plots.find_cells_of_birth_label(Complete_Cells, label_num=[1,2])\n",
    "# Cells = mm3_plots.find_cells_born_after(Cells, born_after=0)\n",
    "# Cells = mm3_plots.find_cells_born_before(Cells, born_before=10000)\n",
    "# Cells = mm3_plots.filter_by_stat(Cells, center_stat='mean', std_distance=3)\n",
    "\n",
    "# This statement can be used in the figure captions\n",
    "filtering_statement = ('Cells with birth label 1 or 2. No filtering.'\n",
    "                       #' Filtered by 3 standard deviations of the median for all parameters.')\n",
    "\n",
    "# Make dataframes of the cells, also rescaled \n",
    "Cells_df = mm3_plots.cells2df(Cells)\n",
    "Cells_df_r = mm3_plots.cells2df(Cells, rescale=True)"
   ]
  },
  {
   "cell_type": "markdown",
   "metadata": {},
   "source": [
    "## Plot basic stats of filtered cells\n",
    "* All analysis going forward will be done on the filtered cells."
   ]
  },
  {
   "cell_type": "code",
   "execution_count": null,
   "metadata": {},
   "outputs": [],
   "source": [
    "cell_stats = mm3_plots.stats_table(Cells_df)\n",
    "display(cell_stats)\n",
    "\n",
    "if save_plots:\n",
    "    cell_stats.to_csv(plot_dir + 'cell_statistics.csv', float_format='%.3f')"
   ]
  },
  {
   "cell_type": "markdown",
   "metadata": {},
   "source": [
    "## Parameters across FOVs"
   ]
  },
  {
   "cell_type": "code",
   "execution_count": null,
   "metadata": {},
   "outputs": [],
   "source": [
    "fig, ax = mm3_plots.violin_fovs(Cells_df)\n",
    "\n",
    "# Figure caption\n",
    "txt = 'Parameters across FOVs.\\n%s n=%d.' % (filtering_statement, n)\n",
    "fig.text(.1, 0.025, txt)\n",
    "plt.subplots_adjust(bottom=0.075, left=0.075, right=0.95)\n",
    "\n",
    "# show and save figure\n",
    "plt.show()\n",
    "if save_plots:\n",
    "    fig.savefig(plot_dir + 'cell_parameters_by_fov.png', dpi=100)"
   ]
  },
  {
   "cell_type": "markdown",
   "metadata": {},
   "source": [
    "## Parameters vs birth_label"
   ]
  },
  {
   "cell_type": "code",
   "execution_count": null,
   "metadata": {},
   "outputs": [],
   "source": [
    "fig, ax = mm3_plots.violin_birth_label(Cells_df)\n",
    "\n",
    "txt = 'Parameters by birth label.\\n%s n=%d.' % (filtering_statement, n)\n",
    "fig.text(.1,0.025,txt)\n",
    "plt.subplots_adjust(bottom=0.1)\n",
    "\n",
    "plt.show()\n",
    "if save_plots:\n",
    "    fig.savefig(plot_dir + 'cell_parameters_by_birth_label.png', dpi=100)"
   ]
  },
  {
   "cell_type": "markdown",
   "metadata": {
    "collapsed": true
   },
   "source": [
    "## Plot parameters over time"
   ]
  },
  {
   "cell_type": "code",
   "execution_count": null,
   "metadata": {},
   "outputs": [],
   "source": [
    "fig, ax = mm3_plots.hex_time_plot(Cells_df, time_mark='birth_time', x_extents=None)\n",
    "\n",
    "txt = 'Parameters over time.\\n%s n=%d.' % (filtering_statement, n)\n",
    "fig.text(.1,0.025,txt)\n",
    "plt.subplots_adjust(bottom=0.1, left=0.075, right=0.95)\n",
    "\n",
    "plt.show()\n",
    "if save_plots:\n",
    "    fig.savefig(plot_dir + 'cell_parameters_over_time.png', dpi=100)"
   ]
  },
  {
   "cell_type": "markdown",
   "metadata": {},
   "source": [
    "## Parameters over time and rate of change"
   ]
  },
  {
   "cell_type": "code",
   "execution_count": null,
   "metadata": {},
   "outputs": [],
   "source": [
    "window = 10\n",
    "fig, ax = mm3_plots.derivative_plot(Cells_df, time_mark='birth_time', time_window=window)\n",
    "\n",
    "txt = 'Parameter derivatives over time. %d min time window.\\n%s n=%d.' % (window, filtering_statement, n)\n",
    "fig.text(.1,0.025,txt)\n",
    "plt.subplots_adjust(bottom=0.1, left=0.075, right=0.95)\n",
    "\n",
    "plt.show()\n",
    "if save_plots:\n",
    "    fig.savefig(plot_dir + 'parameter_derivative_over_time.png', dpi=100)"
   ]
  },
  {
   "cell_type": "markdown",
   "metadata": {},
   "source": [
    "## Plot cell traces over time"
   ]
  },
  {
   "cell_type": "code",
   "execution_count": null,
   "metadata": {},
   "outputs": [],
   "source": [
    "fig, ax = mm3_plots.plot_traces(Cells, trace_limit=1000)\n",
    "\n",
    "ax[0].set_ylim([0,10])\n",
    "txt = 'Traces from 1000 randomly chosen cells.\\n%s n=%d.' % (filtering_statement, n)\n",
    "fig.text(.1,0.025,txt)\n",
    "plt.subplots_adjust(bottom=0.1, left=0.075, right=0.95)\n",
    "\n",
    "plt.show()\n",
    "if save_plots:\n",
    "    fig.savefig(plot_dir + 'traces.png', dpi=100)"
   ]
  },
  {
   "cell_type": "markdown",
   "metadata": {},
   "source": [
    "## Single cell traces over time\n",
    "* Continuous lineages will only work with the mother cells"
   ]
  },
  {
   "cell_type": "code",
   "execution_count": null,
   "metadata": {},
   "outputs": [],
   "source": [
    "Lineages = mm3_plots.organize_cells_by_channel(Cells, specs)\n",
    "Lineages = mm3_plots.find_continuous_lineages(Lineages, t1=50, t2=250)\n",
    "\n",
    "fig, ax = mm3_plots.saw_tooth_plot(Lineages, FOVs=[1,10,20,30,40], tif_width=1700, mothers=True)\n",
    "\n",
    "plt.show()\n",
    "# fig.savefig('./plots/single_cell_traces_mothers.png', dpi=100)"
   ]
  },
  {
   "cell_type": "markdown",
   "metadata": {},
   "source": [
    "## Plot distributions of parameters"
   ]
  },
  {
   "cell_type": "code",
   "execution_count": null,
   "metadata": {},
   "outputs": [],
   "source": [
    "fig, ax = mm3_plots.plot_distributions(Cells_df)\n",
    "\n",
    "txt = 'Parameters distributions.\\n%s n=%d.' % (filtering_statement, n)\n",
    "fig.text(.1,0.05,txt)\n",
    "plt.subplots_adjust(bottom=0.13, left=0.075, right=0.95)\n",
    "\n",
    "plt.show()\n",
    "if save_plots:\n",
    "    fig.savefig(plot_dir + 'distributions.png', dpi=100)"
   ]
  },
  {
   "cell_type": "markdown",
   "metadata": {},
   "source": [
    "## Plot distributions rescaled by the mean"
   ]
  },
  {
   "cell_type": "code",
   "execution_count": null,
   "metadata": {},
   "outputs": [],
   "source": [
    "fig, ax = mm3_plots.plot_rescaled_distributions(Cells_df)\n",
    "\n",
    "txt = 'Parameters distributions rescaled by mean.\\n%s n=%d.' % (filtering_statement, n)\n",
    "fig.text(.1,0.05,txt)\n",
    "plt.subplots_adjust(bottom=0.35)\n",
    "\n",
    "plt.show()\n",
    "if save_plots:\n",
    "    fig.savefig(plot_dir + 'rescaled_distributions.png', dpi=100)"
   ]
  },
  {
   "cell_type": "markdown",
   "metadata": {},
   "source": [
    "## Plot correlations\n",
    "* Note you can plot the rescaled version or not. "
   ]
  },
  {
   "cell_type": "code",
   "execution_count": null,
   "metadata": {},
   "outputs": [],
   "source": [
    "g = mm3_plots.plot_correlations(Cells_df_r, rescale=True)\n",
    "\n",
    "txt = 'Parameters correlations rescaled by mean.\\n%s n=%d.' % (filtering_statement, n)\n",
    "g.fig.text(.1,0.05,txt)\n",
    "plt.subplots_adjust(bottom=0.15)\n",
    "\n",
    "plt.show()\n",
    "if save_plots:\n",
    "    g.fig.savefig(plot_dir + 'correlations_rescaled.png', dpi=100)"
   ]
  }
 ],
 "metadata": {
  "kernelspec": {
   "display_name": "Python 2",
   "language": "python",
   "name": "python2"
  },
  "language_info": {
   "codemirror_mode": {
    "name": "ipython",
    "version": 2
   },
   "file_extension": ".py",
   "mimetype": "text/x-python",
   "name": "python",
   "nbconvert_exporter": "python",
   "pygments_lexer": "ipython2",
   "version": "2.7.13"
  }
 },
 "nbformat": 4,
 "nbformat_minor": 0
}
