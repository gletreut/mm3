{
 "cells": [
  {
   "cell_type": "markdown",
   "metadata": {},
   "source": [
    "# Analysis of 20161205_BS15_S750glc\n",
    "\n",
    "### Load modules"
   ]
  },
  {
   "cell_type": "code",
   "execution_count": null,
   "metadata": {},
   "outputs": [],
   "source": [
    "# import modules\n",
    "import sys\n",
    "import os\n",
    "import time\n",
    "import inspect\n",
    "import getopt\n",
    "import yaml\n",
    "from pprint import pprint # for human readable file output\n",
    "try:\n",
    "    import cPickle as pickle\n",
    "except:\n",
    "    import pickle\n",
    "import numpy as np\n",
    "import scipy.stats as sps\n",
    "import pandas as pd\n",
    "from pprint import pprint\n",
    "from IPython.display import display, HTML\n",
    "\n",
    "from scipy.optimize import curve_fit\n",
    "\n",
    "# you need to import mm3_helpers\n",
    "sys.path.insert(0, '../../mm3/')\n",
    "import mm3_helpers as mm3\n",
    "\n",
    "%matplotlib inline\n",
    "\n",
    "import matplotlib as mpl\n",
    "import matplotlib.pyplot as plt\n",
    "from matplotlib.colors import ListedColormap\n",
    "\n",
    "font = {'family' : 'normal',\n",
    "        'weight' : 'normal',\n",
    "        'size'   : 18}\n",
    "mpl.rc('font', **font)\n",
    "mpl.rcParams['figure.figsize'] = 10, 10\n",
    "mpl.rcParams['pdf.fonttype'] = 42\n",
    "\n",
    "import matplotlib.pyplot as plt\n",
    "# import matplotlib.patches as mpatches\n",
    "\n",
    "pd.options.display.float_format = '{:,.3f}'.format\n",
    "\n",
    "import seaborn as sns\n",
    "sns.set(style=\"ticks\", color_codes=True, font_scale=1.25)"
   ]
  },
  {
   "cell_type": "markdown",
   "metadata": {},
   "source": [
    "### Load experiment specific files"
   ]
  },
  {
   "cell_type": "code",
   "execution_count": null,
   "metadata": {},
   "outputs": [],
   "source": [
    "param_file_path = '../../params.yaml'\n",
    "params = mm3.init_mm3_helpers(param_file_path)\n",
    "\n",
    "# load specs file\n",
    "with open(params['ana_dir'] + '/specs.pkl', 'r') as specs_file:\n",
    "    specs = pickle.load(specs_file)\n",
    "    \n",
    "# load cell data dict\n",
    "with open(params['cell_dir'] + 'mother_cells.pkl', 'r') as cell_file:\n",
    "    Cells = pickle.load(cell_file)"
   ]
  },
  {
   "cell_type": "code",
   "execution_count": null,
   "metadata": {},
   "outputs": [],
   "source": [
    "# how many channels do we have analyzed? \n",
    "channel_no = 0\n",
    "for fov_id in specs.keys():\n",
    "    for peak_id, spec in specs[fov_id].items():\n",
    "        if spec == 1:\n",
    "            channel_no += 1\n",
    "print('There are %d channels analyzed' % channel_no)"
   ]
  },
  {
   "cell_type": "markdown",
   "metadata": {},
   "source": [
    "### Load cells and make various other containers"
   ]
  },
  {
   "cell_type": "code",
   "execution_count": null,
   "metadata": {},
   "outputs": [],
   "source": [
    "### Distributions of filtered parameters\n",
    "labels = ['sb', 'sd', 'delta', 'tau', 'elong_rate', 'septum_position']\n",
    "\n",
    "# Make dataframe for plotting variables\n",
    "Cells_dict = {cell_id : vars(cell) for cell_id, cell in Cells.iteritems()}\n",
    "Cells_df = pd.DataFrame(Cells_dict).transpose() # must be transposed so data is in columns\n",
    "Cells_df = Cells_df.sort(columns=['fov', 'peak', 'birth_time', 'birth_label']) # sort for convinience\n",
    "plot_columns = ['sb', 'sd', 'delta', 'elong_rate', 'tau', 'septum_position']\n",
    "plot_df = Cells_df[plot_columns].astype(np.float)\n",
    "\n",
    "# Calculate basic stats\n",
    "cell_stats = plot_df.describe()\n",
    "display(cell_stats)"
   ]
  },
  {
   "cell_type": "markdown",
   "metadata": {},
   "source": [
    "### Filter Cells dictionary\n",
    "* filtered data for all stats to within 2 standard deviations of the median "
   ]
  },
  {
   "cell_type": "code",
   "execution_count": null,
   "metadata": {},
   "outputs": [],
   "source": [
    "fCells = {} # dict to hold filtered cells\n",
    "for cell_id, Cell in Cells_dict.iteritems():\n",
    "    benchmark = 0 # this needs to equal 6, so it passes all tests\n",
    "    for label in labels:\n",
    "        low_bound = cell_stats[label]['50%'] - 2*cell_stats[label]['std']\n",
    "        high_bound = cell_stats[label]['50%'] + 2*cell_stats[label]['std']\n",
    "        if Cell[label] > low_bound and Cell[label] < high_bound:\n",
    "            benchmark += 1\n",
    "    if benchmark == 6:\n",
    "        fCells[cell_id] = Cells[cell_id]\n",
    "            \n",
    "# Make plotting datafram using the filtered cells\n",
    "fCells_dict = {cell_id : vars(cell) for cell_id, cell in fCells.iteritems()}\n",
    "fCells_df = pd.DataFrame(fCells_dict).transpose() # must be transposed so data is in columns\n",
    "fCells_df = fCells_df.sort(columns=['fov', 'peak', 'birth_time', 'birth_label']) # sort for convinience\n",
    "fplot_df = fCells_df[plot_columns].astype(np.float)\n",
    "\n",
    "display(fplot_df.describe())"
   ]
  },
  {
   "cell_type": "markdown",
   "metadata": {},
   "source": [
    "## Plot traces"
   ]
  },
  {
   "cell_type": "code",
   "execution_count": null,
   "metadata": {},
   "outputs": [],
   "source": [
    "fig, axes = plt.subplots(ncols=1, nrows=2, figsize=(16, 16))\n",
    "ax = axes.flat # same as axes.ravel()\n",
    "\n",
    "for cell_id, cell in fCells.iteritems():\n",
    "\n",
    "    ax[0].plot(cell.times_w_div, cell.lengths_w_div, 'b-', lw=.5, alpha=0.5)\n",
    "    ax[1].semilogy(cell.times_w_div, cell.lengths_w_div, 'b-', lw=.5, alpha=0.5)\n",
    "\n",
    "ax[0].set_title('Cell Length vs Time', size=24)\n",
    "ax[1].set_xlabel('Time [min]', size=20)\n",
    "ax[0].set_ylabel('Length [um]', size=20)\n",
    "ax[1].set_ylabel('Log(Length [um])', size=20)\n",
    "# ax[0].set_ylim([0,10])\n",
    "# ax[1].set_ylim([0,10])\n",
    "\n",
    "sns.despine()\n",
    "#plt.save\n",
    "# plt.savefig(plot_dir + 'traces.png')"
   ]
  },
  {
   "cell_type": "markdown",
   "metadata": {},
   "source": [
    "## Plot histograms"
   ]
  },
  {
   "cell_type": "code",
   "execution_count": null,
   "metadata": {},
   "outputs": [],
   "source": [
    "fig, axes = plt.subplots(nrows=len(labels), ncols=1, figsize=[15,30], squeeze=False)\n",
    "ax = np.ravel(axes)\n",
    "\n",
    "xlabels = ['$\\mu$m', '$\\mu$m', '$\\mu$m', 'min', '$\\lambda$', 'daughter/mother']\n",
    "\n",
    "for i, label in enumerate(labels):\n",
    "    filtered_data = fplot_df[label]\n",
    "\n",
    "    # and the new mean and std\n",
    "    fil_data_mean = filtered_data.mean()\n",
    "    fil_data_std = filtered_data.std()\n",
    "    fil_data_max = filtered_data.max()\n",
    "    fil_data_min = filtered_data.min()\n",
    "    fil_data_cv = fil_data_std / fil_data_mean\n",
    "    print('%s, mean=%.3f, std=%.3f, cv=%.3f' % (label, fil_data_mean, fil_data_std, fil_data_cv))\n",
    "\n",
    "    if label == 'tau':\n",
    "        bin_edges = np.array(range(0, int(fil_data_max)+1, 2)) + 0.5\n",
    "        n, bins, patches = ax[i].hist(filtered_data, bins=bin_edges, \n",
    "                   histtype='step', normed=True, lw=3, alpha=0.75)\n",
    "    else:\n",
    "        ax[i].hist(filtered_data, bins=50, \n",
    "                   histtype='step', normed=True, lw=3, alpha=0.75)\n",
    "\n",
    "    ax[i].set_title(label, size=20)\n",
    "    ax[i].set_xlabel(xlabels[i], size=20)\n",
    "    ax[i].get_yaxis().set_ticks([])\n",
    "    ax[i].set_ylabel('pdf', size=20)\n",
    "    \n",
    "    if label == 'sb' or label == 'sd' or label == 'delta':\n",
    "        ax[i].set_xlim([0, 16])\n",
    "\n",
    "    ax[i].legend(['%s, $\\mu$=%.3f, CV=%.2f' % (label, fil_data_mean, fil_data_cv)], fontsize=14)\n",
    "\n",
    "fig.suptitle('Cell Parameters, filtered by 2 STD of median', size=24)\n",
    "plt.subplots_adjust(top=.95, hspace=0.5)\n",
    "\n",
    "sns.despine()\n",
    "plt.show()\n",
    "# plt.savefig(plot_dir + 'distributions.png')"
   ]
  },
  {
   "cell_type": "markdown",
   "metadata": {},
   "source": [
    "### Lineage traces"
   ]
  },
  {
   "cell_type": "code",
   "execution_count": null,
   "metadata": {},
   "outputs": [],
   "source": [
    "Lineages = mm3.organize_cells_by_channel(fCells, specs)"
   ]
  },
  {
   "cell_type": "code",
   "execution_count": null,
   "metadata": {},
   "outputs": [],
   "source": [
    "fig, axes = plt.subplots(ncols=1, nrows=2, #len(Lineages.keys()),\n",
    "                         figsize=(16, 4))\n",
    "#                          figsize=(16, 2*len(Lineages.keys())))\n",
    "ax = axes.flat \n",
    "\n",
    "# for i, fov in enumerate(Lineages.keys()):\n",
    "for i, fov in enumerate([1,2]):\n",
    "    # record max div length for whole FOV to set y lim\n",
    "    max_div_length = 0 \n",
    "    \n",
    "    for peak, lin in Lineages[fov].iteritems():\n",
    "        # this is to map mothers to daugthers with lines \n",
    "        last_div_time = None\n",
    "        last_length = None\n",
    "        \n",
    "        # turn it into a list so it retains time order\n",
    "        lin = [(cell_id, cell) for cell_id, cell in lin.iteritems()]\n",
    "        lin = sorted(lin, key=lambda x: x[0])\n",
    "#         pprint(lin)\n",
    "        \n",
    "        for cell_id, cell in lin:\n",
    "            ax[i].semilogy(cell.times_w_div, cell.lengths_w_div, \n",
    "                           color=plt.cm.jet(int(255*peak/2600)), lw=1, alpha=0.75)\n",
    "            \n",
    "            # draw a connecting lines betwee mother and daughter\n",
    "            \n",
    "#             print(cell.birth_time, last_div_time)\n",
    "            if cell.birth_time == last_div_time:\n",
    "                ax[i].semilogy([last_div_time, cell.birth_time],\n",
    "                               [last_length, cell.sb], \n",
    "                               color=plt.cm.jet(int(255*peak/2600)), lw=1, alpha=0.75)\n",
    "            \n",
    "            # record the last division time and length for next time \n",
    "            last_div_time = cell.division_time\n",
    "            last_length = cell.sd\n",
    "            \n",
    "            # same the max div length for axis plotting\n",
    "            if last_length > max_div_length:\n",
    "                max_div_length = last_length\n",
    "\n",
    "    title_string = 'Cell Length vs Time FOV %d' % fov\n",
    "    ax[i].set_title(title_string, size=16)\n",
    "    ax[1].set_xlabel('Time [min]', size=20)\n",
    "    ax[i].set_ylabel('Log(Length [um])', size=10)\n",
    "    ax[i].set_ylim([0, max_div_length + 2])\n",
    "\n",
    "plt.subplots_adjust(hspace=0.8)\n",
    "# plt.show()\n",
    "plt.savefig('/Users/jt/Desktop/lineages.png', dpi=300)"
   ]
  },
  {
   "cell_type": "markdown",
   "metadata": {},
   "source": [
    "## scatter plots over time"
   ]
  },
  {
   "cell_type": "code",
   "execution_count": null,
   "metadata": {},
   "outputs": [],
   "source": [
    "ylabels = ['$\\mu$m', '$\\mu$m', '$\\mu$m', 'min', '$\\lambda$', 'daughter/mother']\n",
    "\n",
    "fig, axes = plt.subplots(nrows=len(labels), ncols=1, figsize=[15,30], squeeze=False)\n",
    "ax = np.ravel(axes)\n",
    "\n",
    "# Now plot the filtered data    \n",
    "for i, label in enumerate(labels):\n",
    "    \n",
    "    # get out just the data to be plot for one subplot\n",
    "    columns = ['birth_time', label]\n",
    "    time_df = fCells_df[columns]\n",
    "    time_df = time_df[columns].apply(pd.to_numeric)\n",
    "    time_df = time_df.reset_index()\n",
    "    time_df = time_df[columns]\n",
    "    time_df.sort_values(by='birth_time', inplace=True)\n",
    "    \n",
    "    ax[i].scatter(time_df['birth_time'], time_df[label])\n",
    "    \n",
    "    ax[i].set_title(label, size=20)\n",
    "#     ax[i].get_yaxis().set_ticks([])\n",
    "    ax[i].set_ylabel(ylabels[i], size=20)\n",
    "#     ax[i].set_xlim([0,200])\n",
    "    \n",
    "ax[i].set_xlabel('birth time [min]', size=20)\n",
    "    \n",
    "# plt.tight_layout()\n",
    "\n",
    "# Make title, need a little extra space\n",
    "plt.subplots_adjust(top=0.95)\n",
    "fig.suptitle('Cell Parameters Over Time', size=24)\n",
    "\n",
    "sns.despine()\n",
    "plt.show()"
   ]
  },
  {
   "cell_type": "markdown",
   "metadata": {
    "collapsed": true
   },
   "source": [
    "## Hex plot of the same thing"
   ]
  },
  {
   "cell_type": "code",
   "execution_count": null,
   "metadata": {},
   "outputs": [],
   "source": [
    "# sets color and other styles for hexbin\n",
    "def hexbin_style(p):\n",
    "    p.set_cmap(cmap=plt.cm.Blues) # set color\n",
    "    return\n",
    "\n",
    "# sets color and styles for 2d histogram\n",
    "def hist2d_style(p):\n",
    "    p.set_cmap(cmap=plt.cm.Blues)\n",
    "    return\n",
    "\n",
    "# binning parameters, should be arguments\n",
    "binmin = 1 # minimum bin size to display\n",
    "bingrid = 50 # size of each bin \n",
    "\n",
    "# binex_um = (hrs[0],hrs[1],ylim_um[0],ylim_um[1]) # size of area to plot for length plots\n",
    "# binex_gr = (hrs[0],hrs[1],ylim_gr[0],ylim_gr[1])\n",
    "# binex_tau = (hrs[0],hrs[1],ylim_tau[0],ylim_tau[1])\n",
    "\n",
    "ylabels = ['$\\mu$m', '$\\mu$m', '$\\mu$m', 'min', '$\\lambda$', 'daughter/mother']\n",
    "\n",
    "fig, axes = plt.subplots(nrows=len(labels), ncols=1, figsize=[15,30], squeeze=False)\n",
    "ax = np.ravel(axes)\n",
    "\n",
    "# Now plot the filtered data    \n",
    "for i, label in enumerate(labels):\n",
    "    \n",
    "    # get out just the data to be plot for one subplot\n",
    "    columns = ['birth_time', label]\n",
    "    time_df = fCells_df[columns]\n",
    "    time_df = time_df[columns].apply(pd.to_numeric)\n",
    "    time_df = time_df.reset_index()\n",
    "    time_df = time_df[columns]\n",
    "    time_df.sort_values(by='birth_time', inplace=True)\n",
    "\n",
    "    # limits on the x axis\n",
    "    xlims = (time_df['birth_time'].min(), time_df['birth_time'].max())\n",
    "    \n",
    "    p = ax[i].hexbin(time_df['birth_time'], time_df[label],\n",
    "                     mincnt=binmin) #, gridsize=bingrid)\n",
    "    \n",
    "    # graph stats\n",
    "    bin_mean, bin_edges, binnumber = sps.binned_statistic(time_df['birth_time'], time_df[label], \n",
    "                                                          statistic='mean', \n",
    "                                                          bins=np.arange(xlims[0]-1,xlims[1]+1,5))                                              \n",
    "    bin_centers = bin_edges[:-1] + np.diff(bin_edges) / 2\n",
    "    ax[i].plot(bin_centers, bin_mean, lw=4, alpha=0.8, color=(1.0, 1.0, 0.0))\n",
    "    \n",
    "    \n",
    "    ax[i].set_title(label, size=20)\n",
    "#     ax[i].get_yaxis().set_ticks([])\n",
    "    ax[i].set_ylabel(ylabels[i], size=20)\n",
    "\n",
    "    hexbin_style(p) # set color and style \n",
    "    \n",
    "    ax[i].legend(['5 minute binned average'], fontsize=14)\n",
    "    \n",
    "ax[i].set_xlabel('birth time [min]', size=20)\n",
    "    \n",
    "# plt.tight_layout()\n",
    "\n",
    "# Make title, need a little extra space\n",
    "plt.subplots_adjust(top=0.95)\n",
    "fig.suptitle('Cell Parameters Over Time', size=24)\n",
    "\n",
    "sns.despine()\n",
    "plt.show()"
   ]
  },
  {
   "cell_type": "markdown",
   "metadata": {},
   "source": [
    "## Violin plot of parameters across FOVS"
   ]
  },
  {
   "cell_type": "code",
   "execution_count": null,
   "metadata": {},
   "outputs": [],
   "source": [
    "violin_columns = ['fov', 'sb', 'sd', 'delta', 'elong_rate', 'tau', 'septum_position']\n",
    "violin_df = fCells_df[violin_columns].astype(np.float)\n",
    "violin_df['fov'] = violin_df['fov'].astype(np.int)\n",
    "# violin_df"
   ]
  },
  {
   "cell_type": "code",
   "execution_count": null,
   "metadata": {},
   "outputs": [],
   "source": [
    "sns.set(style=\"whitegrid\", palette=\"pastel\", color_codes=True)\n",
    "\n",
    "ylabels = ['$\\mu$m', '$\\mu$m', '$\\mu$m', 'min', '$\\lambda$', 'daughter/mother']\n",
    "\n",
    "fig, axes = plt.subplots(nrows=len(labels), ncols=1, figsize=[20,5*len(labels)], squeeze=False)\n",
    "ax = np.ravel(axes)\n",
    "\n",
    "for i, label in enumerate(labels):\n",
    "    # Draw a nested violinplot and split the violins for easier comparison\n",
    "    sns.violinplot(x=\"fov\", y=label, data=violin_df,\n",
    "                  scale=\"count\", inner=\"quartile\", ax=ax[i], lw=3)\n",
    "    \n",
    "    ax[i].set_title(label, size=24)\n",
    "    ax[i].set_ylabel(ylabels[i], size=24)\n",
    "    ax[i].set_xlabel('')\n",
    "    ax[i].tick_params(axis='both', which='major', labelsize=15)\n",
    "    \n",
    "ax[i].set_xlabel('FOV', size=24)\n",
    "    \n",
    "# plt.tight_layout()\n",
    "\n",
    "# Make title, need a little extra space\n",
    "plt.subplots_adjust(top=0.95)\n",
    "fig.suptitle('Cell Parameters Across FOVs', size=30)\n",
    "\n",
    "sns.despine()\n",
    "plt.show()"
   ]
  },
  {
   "cell_type": "markdown",
   "metadata": {},
   "source": [
    "## Correlations of parameters"
   ]
  },
  {
   "cell_type": "code",
   "execution_count": null,
   "metadata": {},
   "outputs": [],
   "source": [
    "sns.set(style=\"ticks\", color_codes=True, font_scale=1.25)\n",
    "\n",
    "### correlations\n",
    "# g = sns.pairplot(fplot_df, kind=sns.kdeplot, diag_kind='kde')\n",
    "# # g.map_offdiag(sns.kdeplot)\n",
    "\n",
    "g = sns.PairGrid(fplot_df)\n",
    "g = g.map_diag(sns.kdeplot, lw=3)\n",
    "g = g.map_offdiag(sns.kdeplot, lw=1)\n",
    "\n",
    "\n",
    "# Make title, need a little extra space\n",
    "plt.subplots_adjust(top=0.94)\n",
    "g.fig.suptitle('Correlations and Distributions', size=24)\n",
    "\n",
    "for ax in g.axes.flatten():\n",
    "    for t in ax.get_xticklabels():\n",
    "        t.set(rotation=45)"
   ]
  },
  {
   "cell_type": "code",
   "execution_count": null,
   "metadata": {},
   "outputs": [],
   "source": [
    "sns.set(style=\"ticks\", color_codes=True, font_scale=1.25)\n",
    "\n",
    "### correlations\n",
    "g = sns.pairplot(fplot_df, kind='reg', diag_kind='kde', \n",
    "                 plot_kws={'scatter':True, 'x_bins':10,\n",
    "                          'scatter_kws':{'alpha':0.25}})\n",
    "\n",
    "\n",
    "# Make title, need a little extra space\n",
    "plt.subplots_adjust(top=0.94)\n",
    "g.fig.suptitle('Correlations and Distributions', size=24)\n",
    "\n",
    "for ax in g.axes.flatten():\n",
    "    for t in ax.get_xticklabels():\n",
    "        t.set(rotation=45)"
   ]
  },
  {
   "cell_type": "code",
   "execution_count": null,
   "metadata": {},
   "outputs": [],
   "source": []
  }
 ],
 "metadata": {
  "kernelspec": {
   "display_name": "Python 2",
   "language": "python",
   "name": "python2"
  },
  "language_info": {
   "codemirror_mode": {
    "name": "ipython",
    "version": 2
   },
   "file_extension": ".py",
   "mimetype": "text/x-python",
   "name": "python",
   "nbconvert_exporter": "python",
   "pygments_lexer": "ipython2",
   "version": "2.7.13"
  }
 },
 "nbformat": 4,
 "nbformat_minor": 0
}
