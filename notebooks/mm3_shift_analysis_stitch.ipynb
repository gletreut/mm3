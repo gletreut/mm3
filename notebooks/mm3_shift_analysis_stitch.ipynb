{
 "cells": [
  {
   "cell_type": "markdown",
   "metadata": {},
   "source": [
    "# Analysis of [Exp Name]\n",
    "## Performed [Date]\n",
    "* Shift-up analysis with stitched cells"
   ]
  },
  {
   "cell_type": "markdown",
   "metadata": {},
   "source": [
    "### Load modules"
   ]
  },
  {
   "cell_type": "code",
   "execution_count": null,
   "metadata": {},
   "outputs": [],
   "source": [
    "from __future__ import division\n",
    "\n",
    "# import modules\n",
    "import sys\n",
    "import os\n",
    "from pprint import pprint # for human readable file output\n",
    "import cPickle as pickle\n",
    "import numpy as np\n",
    "\n",
    "# load mm3 modules, always reload the plotting modules\n",
    "%load_ext autoreload\n",
    "%autoreload 2\n",
    "sys.path.insert(0, '/Users/jt/drive/code/mm3/') # path to mm3 folder\n",
    "import mm3_helpers as mm3\n",
    "%aimport mm3_plots\n",
    "\n",
    "# plotting modules and settings. \n",
    "import matplotlib as mpl\n",
    "import matplotlib.pyplot as plt\n",
    "%matplotlib inline\n",
    "import seaborn as sns\n",
    "sns.set(style=\"ticks\", color_codes=True, font_scale=1.25)"
   ]
  },
  {
   "cell_type": "markdown",
   "metadata": {},
   "source": [
    "### Load experimental data and parameters"
   ]
  },
  {
   "cell_type": "code",
   "execution_count": null,
   "metadata": {},
   "outputs": [],
   "source": [
    "# experimental parameters\n",
    "param_file_path = '../../params.yaml'\n",
    "params = mm3.init_mm3_helpers(param_file_path)\n",
    "\n",
    "# load specs file, indicating which channels have cells\n",
    "with open('../specs.pkl', 'r') as specs_file:\n",
    "    specs = pickle.load(specs_file)\n",
    "    \n",
    "# nominal time to absolute time map\n",
    "with open('../time_table.pkl', 'r') as time_table_file:\n",
    "    time_table = pickle.load(time_table_file)\n",
    "    \n",
    "# load segmented cell data dict\n",
    "with open('./complete_cells.pkl', 'r') as cell_file:\n",
    "    Complete_Cells = pickle.load(cell_file)"
   ]
  },
  {
   "cell_type": "code",
   "execution_count": null,
   "metadata": {},
   "outputs": [],
   "source": [
    "# picture taking interval in minutes\n",
    "time_int = \n",
    "\n",
    "# shift time, the timepoint, not the actual minute\n",
    "shift_t = \n",
    "\n",
    "# used for coloring single traces\n",
    "tif_width = "
   ]
  },
  {
   "cell_type": "markdown",
   "metadata": {},
   "source": [
    "## Filter cells\n",
    "* Only look at mother cells.\n",
    "* Only consider continuous lineages that span certain timepoints."
   ]
  },
  {
   "cell_type": "code",
   "execution_count": null,
   "metadata": {},
   "outputs": [],
   "source": [
    "# limit to continuous lineages born between these two times\n",
    "t1 = shift_t - 200\n",
    "t2 = shift_t + 500\n",
    "\n",
    "Cells = Complete_Cells.copy()\n",
    "Cells = mm3_plots.find_cells_of_birth_label(Cells, label_num=1)\n",
    "# Cells = mm3_plots.find_cells_born_after(Cells, born_after=t1)\n",
    "# Cells = mm3_plots.find_cells_born_before(Cells, born_before=t2)\n",
    "# Cells = mm3_plots.filter_by_stat(Cells, center_stat='mean', std_distance=3)\n",
    "Lineages = mm3_plots.organize_cells_by_channel(Cells, specs)\n",
    "Lineages = mm3_plots.find_continuous_lineages(Lineages, t1=t1, t2=t2)\n",
    "Cells = mm3_plots.lineages_to_dict(Lineages)\n",
    "\n",
    "# number of cells\n",
    "n = len(Cells)\n",
    "print('There are {} Cells'.format(n))\n",
    "\n",
    "# tell us how many cells we have\n",
    "n_fovs = 0\n",
    "n_peaks = 0 \n",
    "n_cells = 0\n",
    "for fov, peaks in Lineages.iteritems():\n",
    "    n_fovs += 1\n",
    "    for peak, lin in peaks.iteritems():\n",
    "        n_peaks += 1\n",
    "        for cell_id, cell in lin.iteritems():\n",
    "            n_cells += 1\n",
    "\n",
    "print('There are {} FOVs, {} channels, and {} mother cells.'.format(n_fovs, n_peaks, n_cells))"
   ]
  },
  {
   "cell_type": "markdown",
   "metadata": {},
   "source": [
    "### Save filtered cells"
   ]
  },
  {
   "cell_type": "code",
   "execution_count": null,
   "metadata": {},
   "outputs": [],
   "source": [
    "# with open(os.path.join(params['cell_dir'],'mother_cells.pkl'), 'wb') as cell_file:\n",
    "#     pickle.dump(Cells, cell_file, protocol=pickle.HIGHEST_PROTOCOL)\n",
    "    \n",
    "# with open(os.path.join(params['cell_dir'], 'continuous_lineages.pkl'), 'wb') as cell_file:\n",
    "#     pickle.dump(Lineages, cell_\n",
    "\n",
    "# from scipy.io import savemat\n",
    "# with open(os.path.join(params['cell_dir'], 'cells.mat', 'wb') as cell_file:\n",
    "#     savemat(cell_file, Cells)"
   ]
  },
  {
   "cell_type": "markdown",
   "metadata": {},
   "source": [
    "## Stitch mother cells\n",
    "* Here we want to turn the continuous lineages into a continually growing cells. We can equivalently use log addition or multiplication of each subsequent cell by the length at the previous length before division.\n",
    "* Note that the division time of one cell is the birth time of the daughter cell, so those lengths should natually be conincident except when the septum position deviates from 0.5. For this reason the division point of cells is ignored to avoid double counting that data.\n",
    "\n",
    "### Stitching via log addition"
   ]
  },
  {
   "cell_type": "code",
   "execution_count": null,
   "metadata": {},
   "outputs": [],
   "source": [
    "# and this dictionary will carry times and lengths for each lineage\n",
    "lineage_lengths = {}\n",
    "\n",
    "# go through the cells organized by fov, channel\n",
    "for fov, peak in Lineages.iteritems():\n",
    "    # create nested dict for this FOV\n",
    "    lineage_lengths[fov] = {}\n",
    "\n",
    "    for peak, lin in peak.iteritems():\n",
    "        # sort the cells by birth time\n",
    "        lin = [(cell_id, cell) for cell_id, cell in lin.iteritems()]\n",
    "        lin = sorted(lin, key=lambda x: x[1].birth_time)\n",
    "\n",
    "        # initialize arrays for this cell's information\n",
    "        lin_times = np.array([])\n",
    "        lin_lengths = np.array([])\n",
    "\n",
    "        # initialize offset. Use first length\n",
    "        offset = 0\n",
    "\n",
    "        # create the cumulative times and lengths. \n",
    "        for i, cell_tuple in enumerate(lin):\n",
    "            # add the times to the list\n",
    "            current_times = np.round(np.array(cell_tuple[1].abs_times[:-1]) / 60.0)\n",
    "            lin_times = np.concatenate((lin_times, current_times))\n",
    "\n",
    "            # update lengths to reflect true size in um\n",
    "            current_lengths = np.array(cell_tuple[1].lengths) * params['pxl2um']\n",
    "\n",
    "            # update offset to take into account first length (not on first time)\n",
    "            if i != 0:\n",
    "                offset -= np.log(current_lengths[0])\n",
    "\n",
    "            # offset new length values \n",
    "            new_lengths = np.log(current_lengths) + offset\n",
    "\n",
    "            # add them to the big list\n",
    "            lin_lengths = np.concatenate((lin_lengths, new_lengths))\n",
    "\n",
    "            # update offset to reflect the previous division length\n",
    "            offset = lin_lengths[-1]\n",
    "           \n",
    "            # this dictionary holds all the times, lengths, and derivatives\n",
    "            lineage_lengths[fov][peak] = {'times' : lin_times - shift_t,\n",
    "                                          'log_lengths' : lin_lengths}"
   ]
  },
  {
   "cell_type": "markdown",
   "metadata": {},
   "source": [
    "### Plot"
   ]
  },
  {
   "cell_type": "code",
   "execution_count": null,
   "metadata": {},
   "outputs": [],
   "source": [
    "sns.set(style=\"ticks\", palette=\"pastel\", color_codes=True, font_scale=1.25)\n",
    "fig, axes = plt.subplots(nrows=1, ncols=1, figsize=(12, 6))\n",
    "ax = [axes]\n",
    "\n",
    "for fov, peaks in lineage_lengths.items():\n",
    "    for peak, data in peaks.items():        \n",
    "        # plot cumulative log(length)\n",
    "        ax[0].plot(data['times'], data['log_lengths'], c='b', lw=1, alpha=0.4, \n",
    "                   label='Cumulative log length')\n",
    "\n",
    "# vertical lines for shift up time\n",
    "ax[0].axvline(x=0, linewidth=2, color='g', ls='--', alpha=0.5, label='Shift-up time')\n",
    "\n",
    "# format plot\n",
    "ax[0].set_title('Cumulative Growth Over Time (Continuous Lineages)', size=22)\n",
    "ax[0].set_ylabel('Log(Cumulative Length [um])', size=18)\n",
    "ax[0].set_xlabel('Time [min]', size=18)\n",
    "plt.tight_layout()\n",
    "fig.suptitle('Exp. 20171020 - E. coli - Shift 14, 51min > 40min', size=24)\n",
    "plt.subplots_adjust(top=0.85, hspace=0.1)    \n",
    "plt.show()"
   ]
  },
  {
   "cell_type": "markdown",
   "metadata": {},
   "source": [
    "### Stitching via multiplication"
   ]
  },
  {
   "cell_type": "code",
   "execution_count": null,
   "metadata": {},
   "outputs": [],
   "source": [
    "# This dictionary will carry times and lengths for each lineage\n",
    "lineage_lengths = {}\n",
    "\n",
    "for fov, peak in Lineages.iteritems():\n",
    "\n",
    "    lineage_lengths[fov] = {}\n",
    "\n",
    "    for peak, lin in peak.iteritems():\n",
    "        # sort the cells by birth time\n",
    "        lin = [(cell_id, cell) for cell_id, cell in lin.iteritems()]\n",
    "        lin = sorted(lin, key=lambda x: x[1].birth_time)\n",
    "\n",
    "        lin_times = np.array([])\n",
    "        lin_lengths = np.array([])\n",
    "\n",
    "        # initialize factor multiplication\n",
    "        factor = 1\n",
    "\n",
    "        # create the cumulative times and lengths. \n",
    "        for i, cell_tuple in enumerate(lin):\n",
    "            # add the times to the list\n",
    "            current_times = np.array(cell_tuple[1].abs_times[:-1])\n",
    "            lin_times = np.concatenate((lin_times, current_times))\n",
    "\n",
    "            # update lengths to reflect true size in um\n",
    "            current_lengths = np.array(cell_tuple[1].lengths).astype('float64') * params['pxl2um']\n",
    "            \n",
    "            # calculate factor difference between last length and this length\n",
    "            # don't do it on the first go\n",
    "            if i != 0:\n",
    "                factor = lin_lengths[-1] / current_lengths[0]\n",
    "                \n",
    "            # update lengths \n",
    "            current_lengths *= factor\n",
    "\n",
    "            # add them to the big list\n",
    "            lin_lengths = np.concatenate((lin_lengths, current_lengths))\n",
    "\n",
    "            # update offset to reflect the previous division length\n",
    "            factor = current_lengths / cell_tuple[1].septum_position\n",
    "\n",
    "        # this dictionary holds all the times, lengths, and derivatives\n",
    "        lineage_lengths[fov][peak] = {'times' : lin_times,\n",
    "                                      'times_min' : lin_times / 60.0 - shift_t,\n",
    "                                      'times_min_bin' : np.round(lin_times / 60.0) - shift_t,\n",
    "                                      'lengths' : lin_lengths,\n",
    "                                      'log_lengths' : np.log(lin_lengths)}\n"
   ]
  },
  {
   "cell_type": "markdown",
   "metadata": {},
   "source": [
    "### Plot"
   ]
  },
  {
   "cell_type": "code",
   "execution_count": null,
   "metadata": {},
   "outputs": [],
   "source": [
    "sns.set(style=\"ticks\", palette=\"pastel\", color_codes=True, font_scale=1.25)\n",
    "fig, axes = plt.subplots(nrows=2, ncols=1, figsize=(12, 12))\n",
    "\n",
    "ax = axes.flat\n",
    "\n",
    "for fov, peaks in lineage_lengths.items():\n",
    "    for peak, data in peaks.items():        \n",
    "        # plot cumulative length and log(cumulative length)\n",
    "        ax[0].plot(data['times_min'], data['lengths'], c='b', lw=1, alpha=0.4, \n",
    "                   label='Cumulative length')\n",
    "        \n",
    "        ax[1].plot(data['times_min'], data['log_lengths'], c='b', lw=1, alpha=0.4, \n",
    "                   label='Cumulative log length')\n",
    "\n",
    "# vertical lines for shift up time\n",
    "ax[0].axvline(x=0, linewidth=2, color='g', ls='--', alpha=0.5, label='Shift-up time')\n",
    "ax[1].axvline(x=0, linewidth=2, color='g', ls='--', alpha=0.5, label='Shift-up time')\n",
    "\n",
    "# format plot\n",
    "ax[0].set_title('Cumulative Growth Over Time (Continuous Lineages)', size=22)\n",
    "ax[0].set_ylabel('Cumulative Length [um]', size=18)\n",
    "# ax[0].set_xlim([0, 200])\n",
    "# ax[0].set_ylim([0, 2000])\n",
    "ax[1].set_ylabel('Log(Cumulative Length [um])', size=18)\n",
    "ax[1].set_xlabel('Time [min]', size=20)\n",
    "plt.subplots_adjust(hspace=0.6)\n",
    "plt.tight_layout()\n",
    "fig.suptitle('Exp. 20171020 - E. coli - Shift 14, 51min > 40min', size=24)\n",
    "plt.subplots_adjust(top=0.9, hspace=0.1)    \n",
    "\n",
    "plt.show()"
   ]
  },
  {
   "cell_type": "markdown",
   "metadata": {},
   "source": [
    "## Explore the data\n",
    "* The two stitching methods are equivalent as is apparent from the graph above. We will use the data from the latter going forward.\n",
    "\n",
    "### The lineages are organized by FOV and peak (channel number)"
   ]
  },
  {
   "cell_type": "code",
   "execution_count": null,
   "metadata": {},
   "outputs": [],
   "source": [
    "for fov, peak in lineage_lengths.iteritems():\n",
    "    print(fov, peak.keys())"
   ]
  },
  {
   "cell_type": "markdown",
   "metadata": {},
   "source": [
    "### Show the first 100 time points and lengths for one lineages\n",
    "* Note that the time doesn't always fall on the minute."
   ]
  },
  {
   "cell_type": "code",
   "execution_count": null,
   "metadata": {},
   "outputs": [],
   "source": [
    "pprint(lineage_lengths[2][847]['times_min'][:100])\n",
    "pprint(lineage_lengths[2][847]['lengths'][:100])"
   ]
  },
  {
   "cell_type": "markdown",
   "metadata": {},
   "source": [
    "## Calculate cumulative growth rate for each lineage\n",
    "* We want to calculate the growth rate from stitched cell lengths from time zero to every time point\n",
    "* We will then average growth rates by time point"
   ]
  },
  {
   "cell_type": "code",
   "execution_count": null,
   "metadata": {},
   "outputs": [],
   "source": [
    "# go through every stitched lineage\n",
    "for fov, peaks in lineage_lengths.iteritems():\n",
    "    for peak in peaks.keys():\n",
    "        # get initial length and time and arrays for convenience\n",
    "        init_length = lineage_lengths[fov][peak]['lengths'][0]\n",
    "        lengths = lineage_lengths[fov][peak]['lengths']\n",
    "        init_time = lineage_lengths[fov][peak]['times'][0]\n",
    "        times = lineage_lengths[fov][peak]['times']\n",
    "        \n",
    "        # initialize array for mus\n",
    "        mus = np.array([])\n",
    "        \n",
    "        # go through all time points and calculate growth rate\n",
    "        for i, t in enumerate(times):\n",
    "            \n",
    "            # skip first time point\n",
    "            if i == 0:\n",
    "                continue\n",
    "        \n",
    "            # calculate inst. growth rate mu\n",
    "            mu = np.log(lengths[i] / init_length) / (t - init_time)\n",
    "            \n",
    "            # convert to 1/hours for legibility (in seconds currently)\n",
    "            mu *= 3600\n",
    "            \n",
    "            # append to big list\n",
    "            mus = np.append(mus, mu)\n",
    "        \n",
    "        # put data in dictionary\n",
    "        lineage_lengths[fov][peak]['mus'] = mus\n",
    "        lineage_lengths[fov][peak]['mu_times'] = times[:-1]\n",
    "        # round the times to the closest minute for binning later\n",
    "        mu_times_min = np.round(times[:-1] / 60.0) - shift_t \n",
    "        lineage_lengths[fov][peak]['mu_times_min'] = mu_times_min"
   ]
  },
  {
   "cell_type": "code",
   "execution_count": null,
   "metadata": {},
   "outputs": [],
   "source": [
    "pprint(lineage_lengths[2][847]['mu_times_min'][:100])"
   ]
  },
  {
   "cell_type": "markdown",
   "metadata": {},
   "source": [
    "## Plot a few individual traces\n",
    "* See how there are natural fluctuations. We need to average across traces to see if there is a conserved trend"
   ]
  },
  {
   "cell_type": "code",
   "execution_count": null,
   "metadata": {},
   "outputs": [],
   "source": [
    "sns.set(style=\"ticks\", palette=\"pastel\", color_codes=True, font_scale=1.25)\n",
    "fig, axes = plt.subplots(nrows=1, ncols=1, figsize=(12, 5))\n",
    "ax = [axes]\n",
    "\n",
    "n_traces = 0\n",
    "row_i = 0\n",
    "for fov, peaks in lineage_lengths.items():\n",
    "    for peak, data in peaks.items():        \n",
    "        # plot cumulative length and log(cumulative length)\n",
    "        ax[0].plot(data['mu_times_min'], data['mus'], c='b', lw=1, alpha=0.4, \n",
    "                   label='Cumulative length')\n",
    "\n",
    "        # only plot 10 traces\n",
    "        n_traces += 1\n",
    "        if n_traces >= 10: \n",
    "            break\n",
    "    if n_traces >= 10:\n",
    "        break\n",
    "        \n",
    "# shift up time\n",
    "ax[0].axvline(x=0, linewidth=2, color='g', ls='--', alpha=0.5, label='Shift-up time')\n",
    "\n",
    "# format plot\n",
    "ax[0].set_title('Growth rate of cumulative length, individual traces', size=20)\n",
    "for axis in ax:\n",
    "    axis.set_xlim([-300, 400])\n",
    "    axis.set_xticklabels([])\n",
    "    axis.set_ylim([0, 1.2])\n",
    "    axis.set_ylabel('mu', size=18)\n",
    "ax[0].set_xlabel('Time [min]', size=20)\n",
    "ax[0].set_xticklabels([-200, -100, 0, 100, 200, 300, 400, 500])\n",
    "sns.despine() \n",
    "fig.suptitle('Exp. 20171020 - E. coli - Shift 14, 51min > 40min', size=24)\n",
    "plt.subplots_adjust(top=0.85)\n",
    "plt.show()"
   ]
  },
  {
   "cell_type": "markdown",
   "metadata": {},
   "source": [
    "## Average by time point\n",
    "* At each minute, average the the growth rate for that bin across the population. "
   ]
  },
  {
   "cell_type": "code",
   "execution_count": null,
   "metadata": {},
   "outputs": [],
   "source": [
    "# dictionary holds data by timepoint and then averages. \n",
    "cum_stats_by_time = {'mus_by_time' : {},\n",
    "                     'times_w_avg' : []}\n",
    "\n",
    "# group the mus from above by time point\n",
    "for fov, peaks in lineage_lengths.iteritems():\n",
    "    for peak, data in peaks.iteritems():\n",
    "        for i, t in enumerate(data['mu_times_min']):\n",
    "            # append data to correct time point slot, or make slot\n",
    "            if t in cum_stats_by_time['mus_by_time']:\n",
    "                cum_stats_by_time['mus_by_time'][t].append(data['mus'][i])\n",
    "            else:\n",
    "                cum_stats_by_time['mus_by_time'][t] = [data['mus'][i]]\n",
    "\n",
    "# average the mu per time point\n",
    "for time, values in cum_stats_by_time['mus_by_time'].iteritems():\n",
    "    cum_stats_by_time['times_w_avg'].append((time, np.mean(values)))\n",
    "    \n",
    "# sort the times and averages and store in their own lists in dict\n",
    "cum_stats_by_time['times_w_avg'] = sorted(cum_stats_by_time['times_w_avg'])\n",
    "cum_stats_by_time['times'], cum_stats_by_time['mus_avg'] = zip(*cum_stats_by_time['times_w_avg'])"
   ]
  },
  {
   "cell_type": "code",
   "execution_count": null,
   "metadata": {},
   "outputs": [],
   "source": [
    "pprint(cum_stats_by_time['times'][:10])\n",
    "pprint(cum_stats_by_time['mus_avg'][:10])"
   ]
  },
  {
   "cell_type": "markdown",
   "metadata": {},
   "source": [
    "### Plot"
   ]
  },
  {
   "cell_type": "code",
   "execution_count": null,
   "metadata": {},
   "outputs": [],
   "source": [
    "sns.set(style=\"ticks\", palette=\"pastel\", color_codes=True, font_scale=1.25)\n",
    "fig, ax = plt.subplots(nrows=1, ncols=1, figsize=(12, 6))\n",
    "  \n",
    "# plot average and standard deviation of the rate of change.\n",
    "ax.plot(cum_stats_by_time['times'], \n",
    "        cum_stats_by_time['mus_avg'], \n",
    "        c='r', lw=2, alpha=1, label='Average rate of change')\n",
    "\n",
    "# vertical lines for shift up time\n",
    "ax.axvline(x=0, linewidth=2, color='g', ls='--', alpha=0.5, label='Shift-up time')\n",
    "\n",
    "# format plot\n",
    "ax.set_xlim([-100, +500])\n",
    "ax.set_ylim([0.6, 0.9])\n",
    "ax.set_title('Average growth rate of cumulative length', size=22)\n",
    "ax.set_ylabel('$dL/dt$ [hours$^{-1}$]', size=20)\n",
    "ax.set_xlabel('Time [min]', size=20)\n",
    "plt.tight_layout()\n",
    "fig.suptitle('Exp. 20171020 - E. coli - Shift 14, 51min > 40min', size=24)\n",
    "plt.subplots_adjust(top=0.85)\n",
    "plt.show()"
   ]
  },
  {
   "cell_type": "markdown",
   "metadata": {},
   "source": [
    "* The data looks noisy before the shift up time because alternating timepoints have different ammounts of data (i.e. because data was binned to the minute, and the picture interval was not constant due florescent imaging on odd intervals, some minutes have more data than others). This worked itself out after the shift when the experiment was paused briefly. \n",
    "* In either case, there does not seem to be any oscillation due to shift up."
   ]
  },
  {
   "cell_type": "markdown",
   "metadata": {},
   "source": [
    "## Calculate growth rate over a moving window\n",
    "* In this case, we will caculate the instanteous growth rate over a moving window, still using the cumulative cell lengths"
   ]
  },
  {
   "cell_type": "code",
   "execution_count": null,
   "metadata": {},
   "outputs": [],
   "source": [
    "# This dictionary carries all the lengths by time point, and rate of change by timepoint\n",
    "stats_by_time = {'diffs_by_time' : {}, \n",
    "                 'times' : [],\n",
    "                 'diff_means' : [],\n",
    "                 'diff_stds' : [],\n",
    "                 'diff_SE' : [],\n",
    "                 'diff_n' : []}\n",
    "\n",
    "# we loop through each cell to find the rate of length change\n",
    "for fov, peaks in lineage_lengths.iteritems():\n",
    "    for peak, data in peaks.iteritems():\n",
    "\n",
    "        # pull out times and lengthts for convenience\n",
    "        lengths = data['lengths']\n",
    "        times = data['times']\n",
    "\n",
    "        # find growth rate over this many time points. \n",
    "        n_diff = 10\n",
    "\n",
    "        # log of of scaled length\n",
    "        lengths_diff = [np.log(lengths[i+n_diff] / l) for i, l in enumerate(lengths[:-n_diff])]\n",
    "        \n",
    "        # difference in time \n",
    "        diff_steps = [times[i+n_diff] - t for i, t in enumerate(times[:-n_diff])]\n",
    "\n",
    "        # divide\n",
    "        lengths_diff = np.divide(lengths_diff, diff_steps)\n",
    "        \n",
    "        # convert to hours (currently in minutes)\n",
    "        lengths_diff *= 3600\n",
    "\n",
    "        # convert corresponding times, bin to the minute\n",
    "        diff_times = np.round(times[:-n_diff] / 60.0) - shift_t\n",
    "\n",
    "        # add data to time point centric dictionary \n",
    "        for i, t in enumerate(diff_times):\n",
    "            if t in stats_by_time['diffs_by_time']:\n",
    "                stats_by_time['diffs_by_time'][t].append(lengths_diff[i])\n",
    "            else:\n",
    "                stats_by_time['diffs_by_time'][t] = [lengths_diff[i]]\n",
    "        \n",
    "# calculate timepoint by timepoint stats\n",
    "times_and_values = sorted(stats_by_time['diffs_by_time'].items())\n",
    "\n",
    "for t, values in times_and_values:\n",
    "    stats_by_time['times'].append(t)\n",
    "    stats_by_time['diff_means'].append(np.mean(values))\n",
    "    stats_by_time['diff_stds'].append(np.std(values))\n",
    "    stats_by_time['diff_SE'].append(np.std(values) / np.sqrt(len(values)))\n",
    "    stats_by_time['diff_n'].append(len(values))"
   ]
  },
  {
   "cell_type": "code",
   "execution_count": null,
   "metadata": {},
   "outputs": [],
   "source": [
    "pprint(stats_by_time['times'][:10])\n",
    "pprint(stats_by_time['diff_means'][:10])"
   ]
  },
  {
   "cell_type": "markdown",
   "metadata": {},
   "source": [
    "### Plot"
   ]
  },
  {
   "cell_type": "code",
   "execution_count": null,
   "metadata": {},
   "outputs": [],
   "source": [
    "sns.set(style=\"ticks\", palette=\"pastel\", color_codes=True, font_scale=1.25)\n",
    "fig, ax = plt.subplots(nrows=1, ncols=1, figsize=(12, 6))\n",
    "  \n",
    "# plot average and standard deviation of the rate of change.\n",
    "ax.plot(stats_by_time['times'], stats_by_time['diff_means'], c='r', lw=2, alpha=1, \n",
    "        label='Average rate of change')\n",
    "\n",
    "# vertical lines for shift up time\n",
    "ax.axvline(x=0, linewidth=2, color='g', ls='--', alpha=0.5, label='Shift-up time')\n",
    "\n",
    "# format plot\n",
    "ax.set_xlim([-200, +500])\n",
    "ax.set_ylim([0.5, 1.1])\n",
    "ax.set_title('Average growth rate over window', size=22)\n",
    "ax.set_ylabel('$dL/dt$ [hours$^{-1}$] (time step = %d min)' % (n_diff), size=20)\n",
    "ax.set_xlabel('time [min]', size=20)\n",
    "# ax.legend(loc='lower right', fontsize=16)\n",
    "\n",
    "plt.tight_layout()\n",
    "fig.suptitle('Exp. 20171020 - E. coli - Shift 14, 51min > 40min', size=24)\n",
    "plt.subplots_adjust(top=0.85)\n",
    "    \n",
    "plt.show()"
   ]
  },
  {
   "cell_type": "markdown",
   "metadata": {},
   "source": [
    "* So this is what I don't understand, because with the sliding window I see a definitive overshoot in growth rate."
   ]
  },
  {
   "cell_type": "markdown",
   "metadata": {},
   "source": [
    "## Using all cells growth rate calculation\n",
    "* The above data just focuses on cells from continuous lineages. This is a requirement for the cumulative growth rate from the stitched cells, but not for the second method that uses the sliding window. \n",
    "\n",
    "### Refilter cells\n",
    "* Use all cells with birth label 1 and 2 (mothers and sisters)"
   ]
  },
  {
   "cell_type": "code",
   "execution_count": null,
   "metadata": {},
   "outputs": [],
   "source": [
    "# limit to continuous lineages born between these two times\n",
    "Cells = Complete_Cells.copy()\n",
    "Cells = mm3_plots.find_cells_of_birth_label(Cells, label_num=[1, 2])\n",
    "Cells = mm3_plots.filter_by_stat(Cells, center_stat='mean', std_distance=3)\n",
    "\n",
    "# number of cells\n",
    "n = len(Cells)\n",
    "print('There are {} Cells'.format(n))"
   ]
  },
  {
   "cell_type": "markdown",
   "metadata": {},
   "source": [
    "### Same analysis as above, but done in a cell centric manner.\n",
    "* Elongation rates between cells is not considerederd. \n",
    "* Elongation rate is still averaged per time point."
   ]
  },
  {
   "cell_type": "code",
   "execution_count": null,
   "metadata": {},
   "outputs": [],
   "source": [
    "# This dictionary carries all the lengths by time point, and rate of change by timepoint\n",
    "stats_by_time = {'diffs_by_time' : {}, \n",
    "                 'times' : [],\n",
    "                 'diff_means' : [],\n",
    "                 'diff_stds' : [],\n",
    "                 'diff_SE' : [],\n",
    "                 'diff_n' : []}\n",
    "\n",
    "# we loop through each cell to find the rate of length change\n",
    "for cell_id, Cell in Cells.items():\n",
    "\n",
    "    # convert lengths to um from pixels\n",
    "    lengths = np.array(Cell.lengths_w_div)\n",
    "    times = np.array(Cell.abs_times)\n",
    "\n",
    "    # take numerical n-step 1st derivative \n",
    "    n_diff = 10\n",
    "    \n",
    "    lengths_diff = [np.log(lengths[i+n_diff] / l) for i, l in enumerate(lengths[:-n_diff])]\n",
    "    diff_steps = [times[i+n_diff] - t for i, t in enumerate(times[:-n_diff])]\n",
    "    lengths_diff = np.divide(lengths_diff, diff_steps)\n",
    "    lengths_diff *= 3600\n",
    "\n",
    "    # convert corresponding times, bin to the minute\n",
    "    diff_times = np.round(times[:-n_diff] / 60.0) - shift_t\n",
    "    \n",
    "    # add data to time point centric dictionary \n",
    "    for i, t in enumerate(diff_times):\n",
    "        if t in stats_by_time['diffs_by_time']:\n",
    "            stats_by_time['diffs_by_time'][t].append(lengths_diff[i])\n",
    "        else:\n",
    "            stats_by_time['diffs_by_time'][t] = [lengths_diff[i]]\n",
    "        \n",
    "# calculate timepoint by timepoint stats\n",
    "times_and_values = sorted(stats_by_time['diffs_by_time'].items())\n",
    "\n",
    "for t, values in times_and_values:\n",
    "    stats_by_time['times'].append(t)\n",
    "    stats_by_time['diff_means'].append(np.mean(values))\n",
    "    stats_by_time['diff_stds'].append(np.std(values))\n",
    "    stats_by_time['diff_SE'].append(np.std(values) / np.sqrt(len(values)))\n",
    "    stats_by_time['diff_n'].append(len(values))\n",
    "\n",
    "### plot\n",
    "sns.set(style=\"ticks\", palette=\"pastel\", color_codes=True, font_scale=1.25)\n",
    "fig, ax = plt.subplots(nrows=1, ncols=1, figsize=(12, 6))\n",
    "  \n",
    "# plot average and standard deviation of the rate of change.\n",
    "ax.plot(stats_by_time['times'], stats_by_time['diff_means'], c='r', lw=2, alpha=1, \n",
    "          label='Average rate of change')\n",
    "ax.fill_between(stats_by_time['times'], \n",
    "                np.array(stats_by_time['diff_means']) - np.array(stats_by_time['diff_SE']), \n",
    "                np.array(stats_by_time['diff_means']) + np.array(stats_by_time['diff_SE']),\n",
    "                facecolor='r', alpha=0.5)\n",
    "\n",
    "# vertical lines for shift up time\n",
    "ax.axvline(x=0, linewidth=2, color='g', ls='--', alpha=0.5, label='Shift-up time')\n",
    "\n",
    "# format plot\n",
    "ax.set_xlim([-100, +500])\n",
    "ax.set_ylim([0.5, 1.25])\n",
    "ax.set_title('Average instantaneous growth rate', size=22)\n",
    "ax.set_ylabel('$dL/dt$ [hours$^{-1}$] (time step = %d min)' % (n_diff), size=20)\n",
    "ax.set_xlabel('time [min]', size=20)\n",
    "plt.tight_layout()\n",
    "fig.suptitle('Exp. 20171020 - E. coli - Shift 14, 51min > 40min', size=24)\n",
    "plt.subplots_adjust(top=0.85)\n",
    "plt.show()"
   ]
  },
  {
   "cell_type": "markdown",
   "metadata": {},
   "source": [
    "## Alternative: average lineages first and then find growth rate\n",
    "* Here, we average the lengths by time point first, and then find the growth rate either cumulative from the start, or with a sliding window"
   ]
  },
  {
   "cell_type": "markdown",
   "metadata": {},
   "source": [
    "### Average across cumulative lengths by time point"
   ]
  },
  {
   "cell_type": "code",
   "execution_count": null,
   "metadata": {},
   "outputs": [],
   "source": [
    "# dictionary holds data by timepoint and then averages. \n",
    "avg_length_by_time = {'lengths_by_time' : {},\n",
    "                      'times_w_avg' : []}\n",
    "\n",
    "# group the mus from above by time point\n",
    "for fov, peaks in lineage_lengths.iteritems():\n",
    "    for peak, data in peaks.iteritems():\n",
    "        for i, t in enumerate(data['times_min_bin']):\n",
    "            # append data to correct time point slot, or make slot\n",
    "            if t in avg_length_by_time['lengths_by_time']:\n",
    "                avg_length_by_time['lengths_by_time'][t].append(data['lengths'][i])\n",
    "            else:\n",
    "                avg_length_by_time['lengths_by_time'][t] = [data['lengths'][i]]\n",
    "\n",
    "# average the mu per time point\n",
    "for time, values in avg_length_by_time['lengths_by_time'].iteritems():\n",
    "    avg_length_by_time['times_w_avg'].append((time, np.mean(values)))\n",
    "    \n",
    "# sort the times and averages and store in their own lists in dict\n",
    "avg_length_by_time['times_w_avg'] = sorted(avg_length_by_time['times_w_avg'])\n",
    "avg_length_by_time['times'], avg_length_by_time['length_avgs'] = zip(*avg_length_by_time['times_w_avg'])"
   ]
  },
  {
   "cell_type": "markdown",
   "metadata": {},
   "source": [
    "### Plot"
   ]
  },
  {
   "cell_type": "code",
   "execution_count": null,
   "metadata": {},
   "outputs": [],
   "source": [
    "sns.set(style=\"ticks\", palette=\"pastel\", color_codes=True, font_scale=1.25)\n",
    "fig, axes = plt.subplots(nrows=2, ncols=1, figsize=(12, 12))\n",
    "\n",
    "ax = axes.flat\n",
    "\n",
    "for fov, peaks in lineage_lengths.items():\n",
    "    for peak, data in peaks.items():        \n",
    "        # plot cumulative length and log(cumulative length)\n",
    "        ax[0].plot(data['times_min'], data['lengths'], c='b', lw=1, alpha=0.4, \n",
    "                   label='Cumulative length')\n",
    "        \n",
    "        ax[1].plot(data['times_min'], data['log_lengths'], c='b', lw=1, alpha=0.4, \n",
    "                   label='Cumulative log length')\n",
    "        \n",
    "# average\n",
    "ax[0].plot(avg_length_by_time['times'], avg_length_by_time['length_avgs'], \n",
    "           c='blue', lw=2, alpha=0.75)\n",
    "ax[1].plot(avg_length_by_time['times'], np.log(avg_length_by_time['length_avgs']), \n",
    "           c='blue', lw=2, alpha=0.75)\n",
    "\n",
    "# vertical lines for shift up time\n",
    "ax[0].axvline(x=0, linewidth=2, color='g', ls='--', alpha=0.5, label='Shift-up time')\n",
    "ax[1].axvline(x=0, linewidth=2, color='g', ls='--', alpha=0.5, label='Shift-up time')\n",
    "\n",
    "# format plot\n",
    "ax[0].set_title('Cumulative Growth Over Time (Continuous Lineages)', size=22)\n",
    "ax[0].set_ylabel('Cumulative Length [um]', size=18)\n",
    "# ax[0].set_xlim([0, 200])\n",
    "# ax[0].set_ylim([0, 2000])\n",
    "ax[1].set_ylabel('Log(Cumulative Length [um])', size=18)\n",
    "ax[1].set_xlabel('Time [min]', size=20)\n",
    "plt.subplots_adjust(hspace=0.6)\n",
    "plt.tight_layout()\n",
    "fig.suptitle('Exp. 20171020 - E. coli - Shift 14, 51min > 40min', size=24)\n",
    "plt.subplots_adjust(top=0.9, hspace=0.1)    \n",
    "\n",
    "plt.show()"
   ]
  },
  {
   "cell_type": "markdown",
   "metadata": {},
   "source": [
    "### cumulative and instant growth rate for average cumulative length"
   ]
  },
  {
   "cell_type": "code",
   "execution_count": null,
   "metadata": {},
   "outputs": [],
   "source": [
    "# get initial length and time and arrays for convenience\n",
    "# truncate off the first 100 data points as they are noisy\n",
    "init_length = avg_length_by_time['length_avgs'][100]\n",
    "lengths = avg_length_by_time['length_avgs'][100:]\n",
    "init_time = avg_length_by_time['times'][100]\n",
    "times = avg_length_by_time['times'][100:]\n",
    "\n",
    "# initialize array for mus\n",
    "mus_cum = np.array([])\n",
    "\n",
    "# go through all time points and calculate growth rate\n",
    "for i, t in enumerate(times):\n",
    "\n",
    "    # skip first time point\n",
    "    if i == 0:\n",
    "        continue\n",
    "\n",
    "    # calculate cum growth rate mu\n",
    "    mu_cum = np.log(lengths[i] / init_length) / (t - init_time)\n",
    "\n",
    "    # convert to 1/hours for legibility (in seconds currently)\n",
    "    mu_cum *= 60\n",
    "\n",
    "    # append to big list\n",
    "    mus_cum = np.append(mus_cum, mu_cum)\n",
    "    \n",
    "avg_length_by_time['mus_cum'] = mus_cum\n",
    "avg_length_by_time['mu_times_cum'] = times[:-1]\n",
    "    \n",
    "### calculuate inst. growth rate\n",
    "n_diff = 10\n",
    "    \n",
    "# log of of scaled length\n",
    "lengths_diff = [np.log(lengths[i+n_diff] / l) for i, l in enumerate(lengths[:-n_diff])]\n",
    "\n",
    "# difference in time \n",
    "diff_steps = [times[i+n_diff] - t for i, t in enumerate(times[:-n_diff])]\n",
    "\n",
    "# divide\n",
    "lengths_diff = np.divide(lengths_diff, diff_steps)\n",
    "\n",
    "# convert to hours (currently in minutes)\n",
    "lengths_diff *= 60.0\n",
    "\n",
    "# convert corresponding times, bin to the minute\n",
    "diff_times = times[:-n_diff]\n",
    "\n",
    "avg_length_by_time['mus_inst'] = lengths_diff\n",
    "avg_length_by_time['mu_times_inst'] = diff_times\n",
    "\n",
    "### Plot em\n",
    "sns.set(style=\"ticks\", palette=\"pastel\", color_codes=True, font_scale=1.25)\n",
    "fig, axes = plt.subplots(nrows=2, ncols=1, figsize=(12, 10))\n",
    "ax = axes.flat\n",
    "    \n",
    "# plot cumulative growth rate and growth rate \n",
    "ax[0].plot(avg_length_by_time['mu_times_cum'], avg_length_by_time['mus_cum'], \n",
    "           c='blue', lw=1, alpha=1)\n",
    "ax[1].plot(avg_length_by_time['mu_times_inst'], avg_length_by_time['mus_inst'], \n",
    "           c='blue', lw=1, alpha=1)\n",
    "\n",
    "# shift up time\n",
    "ax[0].axvline(x=0, linewidth=2, color='g', ls='--', alpha=0.5, label='Shift-up time')\n",
    "ax[1].axvline(x=0, linewidth=2, color='g', ls='--', alpha=0.5, label='Shift-up time')\n",
    "\n",
    "# format plot\n",
    "ax[0].set_title('Cumulative growth rate of averaged cumulative lengths', size=20)\n",
    "ax[1].set_title('Instantaneous growth rate of averaged cumulative lengths', size=20)\n",
    "\n",
    "for axis in ax:\n",
    "    axis.set_xlim([-200, 500])\n",
    "    axis.set_xticklabels([])\n",
    "    axis.set_ylim([0.5, 1.2])\n",
    "    axis.set_ylabel('mu', size=18)\n",
    "ax[1].set_xlabel('Time [min]', size=20)\n",
    "ax[1].set_xticklabels([-200, -100, 0, 100, 200, 300, 400, 500])\n",
    "\n",
    "sns.despine() \n",
    "fig.suptitle('Exp. 20171020 - E. coli - Shift 14, 51min > 40min', size=24)\n",
    "plt.subplots_adjust(top=0.90, hspace=0.25)\n",
    "plt.show()"
   ]
  },
  {
   "cell_type": "markdown",
   "metadata": {},
   "source": [
    "* Even though this data is more noisy, there is still the same basic descrepency."
   ]
  },
  {
   "cell_type": "code",
   "execution_count": null,
   "metadata": {},
   "outputs": [],
   "source": []
  }
 ],
 "metadata": {
  "kernelspec": {
   "display_name": "Python 2",
   "language": "python",
   "name": "python2"
  },
  "language_info": {
   "codemirror_mode": {
    "name": "ipython",
    "version": 2
   },
   "file_extension": ".py",
   "mimetype": "text/x-python",
   "name": "python",
   "nbconvert_exporter": "python",
   "pygments_lexer": "ipython2",
   "version": "2.7.13"
  }
 },
 "nbformat": 4,
 "nbformat_minor": 0
}
